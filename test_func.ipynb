{
 "cells": [
  {
   "cell_type": "code",
   "execution_count": 1,
   "metadata": {},
   "outputs": [],
   "source": [
    "import faiss\n",
    "import numpy as np\n",
    "import torch\n",
    "vectors = np.load('embeddings.npy')"
   ]
  },
  {
   "cell_type": "code",
   "execution_count": 2,
   "metadata": {},
   "outputs": [
    {
     "name": "stdout",
     "output_type": "stream",
     "text": [
      "(300, 768)\n"
     ]
    }
   ],
   "source": [
    "print(vectors.shape)"
   ]
  },
  {
   "cell_type": "code",
   "execution_count": 3,
   "metadata": {},
   "outputs": [
    {
     "name": "stdout",
     "output_type": "stream",
     "text": [
      "Number of vectors in the index: 300\n"
     ]
    }
   ],
   "source": [
    "vectors=vectors.astype(np.float32)\n",
    "dimention=vectors.shape[1]\n",
    "index=faiss.IndexFlatL2(dimention)\n",
    "index.add(vectors)\n",
    "print(\"Number of vectors in the index:\", index.ntotal)"
   ]
  },
  {
   "cell_type": "code",
   "execution_count": null,
   "metadata": {},
   "outputs": [],
   "source": [
    "def retrive(info,index, k=5):\n",
    "    info=np.array(info).reshape(1,-1).astype(np.float32)\n",
    "    distance,indices=index.search(info,k)\n",
    "    return indices,distance"
   ]
  },
  {
   "cell_type": "code",
   "execution_count": null,
   "metadata": {},
   "outputs": [],
   "source": [
    "tools=[{\n",
    "    \"type\": \"function\",\n",
    "    \"function\": {\n",
    "        \"name\": \"retrive\",\n",
    "        \"description\": \"Cung cấp những tài liệu/trích dẫn liên quan đến thông tin mà bạn tìm kiếm về  luat phap \",\n",
    "        \"parameters\": {\n",
    "            \"type\": \"object\",\n",
    "            \"properties\": {\n",
    "                \"info\": {\n",
    "                    \"type\": \"string\",\n",
    "                    \"description\": \"Thông tin/lĩnh vực ve phap luat can tim kiem, vi du:'luat nhan qua'\",\n",
    "                },\n",
    "                'index':{\n",
    "                    \"type\": \"object\",\n",
    "                    \"description\":\"index can trich xuat thong tin ra\",\n",
    "                },\n",
    "                \"k\":{\n",
    "                    'type':\"constant\",\n",
    "                    'description':\"so luong vector lay ra tu trong index\",\n",
    "                }\n",
    "            },\n",
    "            \"required\": [\"info\",\"index\",\"k\"],\n",
    "        },\n",
    "    },\n",
    "}]\n"
   ]
  },
  {
   "cell_type": "code",
   "execution_count": null,
   "metadata": {},
   "outputs": [
    {
     "name": "stderr",
     "output_type": "stream",
     "text": [
      "/tmp/ipykernel_6667/1647321461.py:3: LangChainDeprecationWarning: The class `OllamaFunctions` was deprecated in LangChain 0.0.64 and will be removed in 1.0. An updated version of the class exists in the :class:`~langchain-ollama package and should be used instead. To use it run `pip install -U :class:`~langchain-ollama` and import as `from :class:`~langchain_ollama import ChatOllama``.\n",
      "  llm = OllamaFunctions(model=\"llama3.1\", format=\"json\")\n"
     ]
    }
   ],
   "source": [
    "import json \n",
    "import ollama\n",
    "import asyncio \n",
    "async def run(model,user_input):\n",
    "    client=ollama.AsyncClient()\n",
    "    messages=[\n",
    "        {\n",
    "            'role':'user',\n",
    "            'content':user_input,\n",
    "        }\n",
    "    ]\n",
    "    response=await client.chat(\n",
    "        model=model,\n",
    "        messages=messages,\n",
    "        tools=tools,\n",
    "    )"
   ]
  },
  {
   "cell_type": "code",
   "execution_count": 13,
   "metadata": {},
   "outputs": [],
   "source": [
    "llm = llm.bind_tools(tools, function_call={\"name\": \"retrive\"})"
   ]
  },
  {
   "cell_type": "code",
   "execution_count": null,
   "metadata": {},
   "outputs": [],
   "source": []
  }
 ],
 "metadata": {
  "kernelspec": {
   "display_name": "rag",
   "language": "python",
   "name": "python3"
  },
  "language_info": {
   "codemirror_mode": {
    "name": "ipython",
    "version": 3
   },
   "file_extension": ".py",
   "mimetype": "text/x-python",
   "name": "python",
   "nbconvert_exporter": "python",
   "pygments_lexer": "ipython3",
   "version": "3.11.10"
  }
 },
 "nbformat": 4,
 "nbformat_minor": 2
}
